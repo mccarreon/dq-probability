{
 "cells": [
  {
   "cell_type": "markdown",
   "metadata": {},
   "source": [
    "# Estimating Probabilities\n",
    "\n",
    "A **random experiment** is an experiment where we can't predict outcomes with certainty. For example, tossing a coin. \n",
    "\n",
    "Although we can't predict the outcome for sure, we can estimate probabilities associated with outcomes. A coin toss has two possible outcomes. \n",
    "\n",
    "To estimate the probability of a coin landing on heads we can: \n",
    "* Toss the coin many times (repeating the random experiment)\n",
    "* Count the number of times the coin landed on heads\n",
    "* Divide that number by thet otal number of times we tossed the coins\n",
    "\n",
    "Theoretically, this would give us the probability of a coin landing heads up. Let's say we got these results:\n",
    "* Heads: 56\n",
    "* Tails: 44\n",
    "\n",
    "We can write the probability of flipping heads as P(H) = 0.56. Calculating probability of an event by performing an experiment one or more times is called **experimental** or **empirical** probability. \n",
    "\n",
    "### Probability Examples:\n",
    "* Dice rolled: 200 times\n",
    "* Number of times 6 occurred: 28\n",
    "* Number of times an odd number occurred: 102"
   ]
  },
  {
   "cell_type": "code",
   "execution_count": 10,
   "metadata": {},
   "outputs": [
    {
     "name": "stdout",
     "output_type": "stream",
     "text": [
      "Probability of a six: 0.14         \n",
      "Probability of an odd number: 0.51\n"
     ]
    }
   ],
   "source": [
    "# Calculating probability of a six\n",
    "p_six = 28/200\n",
    "\n",
    "# Calculating probability of an odd number\n",
    "p_odd = 102/200\n",
    "print(f'Probability of a six: {p_six} \\\n",
    "        \\nProbability of an odd number: {p_odd}')"
   ]
  },
  {
   "cell_type": "markdown",
   "metadata": {},
   "source": [
    "Empirical probability of an event is just the **relative frequency** of that event with respect to the total number of times the experiment was performed. You can multiply the probability by 100 to get the percentage. "
   ]
  },
  {
   "cell_type": "code",
   "execution_count": 15,
   "metadata": {},
   "outputs": [
    {
     "name": "stdout",
     "output_type": "stream",
     "text": [
      "Percent chance of a six: 14.0         \n",
      "Percent chance of an odd number: 51.0\n"
     ]
    }
   ],
   "source": [
    "# Calculating percentage of the chance of a six occuring\n",
    "percent_six = round(p_six*100, 2)\n",
    "\n",
    "# Calculating percentage of the chance of an odd number\n",
    "percent_odd = round(p_odd*100, 2)\n",
    "print(f'Percent chance of a six: {percent_six} \\\n",
    "        \\nPercent chance of an odd number: {percent_odd}')"
   ]
  },
  {
   "cell_type": "markdown",
   "metadata": {},
   "source": [
    "What happens if we do an experiment twice and get two different probabilities? For example, what if we got: \n",
    "* Experiment one: P(H) = 46%\n",
    "* Experiment two: P(H) = 51%\n",
    "\n",
    "How do we know the true probability of heads? \n",
    "\n",
    "Let's assume we already know the true P(H) = 50% and the chances are the same for tails, so P(T) = 50%. We can simulate a coin toss 10,000 times and watch how P(H) evolves as the number of tosses increases. "
   ]
  },
  {
   "cell_type": "code",
   "execution_count": 23,
   "metadata": {},
   "outputs": [
    {
     "name": "stdout",
     "output_type": "stream",
     "text": [
      "[0.4993494144730257, 0.49939951961569257, 0.4993495446812769, 0.4993996397838703, 0.4993496748374187, 0.4992997198879552, 0.49934980494148246, 0.4993998799759952, 0.49934993499349933, 0.4994]\n"
     ]
    },
    {
     "data": {
      "text/plain": [
       "Text(0.5, 1.0, 'P(H) Tends to Approach the True Value')"
      ]
     },
     "execution_count": 23,
     "metadata": {},
     "output_type": "execute_result"
    },
    {
     "data": {
      "image/png": "[encoded data removed]",
      "text/plain": [
       "<Figure size 432x288 with 1 Axes>"
      ]
     },
     "metadata": {
      "needs_background": "light"
     },
     "output_type": "display_data"
    }
   ],
   "source": [
    "from numpy.random import seed, randint\n",
    "\n",
    "# ensuring replicatable results\n",
    "seed(1)\n",
    "\n",
    "# simulating a single coin toss\n",
    "def coin_toss():\n",
    "    if randint(0,2) == 1:\n",
    "        return 'HEAD'\n",
    "    else:\n",
    "        return 'TAIL'\n",
    "    \n",
    "probabilities = []\n",
    "heads = 0\n",
    "\n",
    "# simulating 10,000 coin tosses and getting probability of heads\n",
    "# occurring after each one, then appending that to our list of\n",
    "# probabilities\n",
    "for n in range(1, 10001):\n",
    "    outcome = coin_toss()\n",
    "    if outcome == 'HEAD':\n",
    "        heads += 1\n",
    "    \n",
    "    current_probability = heads / n\n",
    "    probabilities.append(current_probability)\n",
    "    \n",
    "print(probabilities[-10:])\n",
    "\n",
    "import matplotlib.pyplot as plt\n",
    "%matplotlib inline\n",
    "\n",
    "plt.plot(probabilities)\n",
    "plt.axhline(y=0.5, color='green')\n",
    "plt.xlabel('Number of Coin Tosses')\n",
    "plt.ylabel('P(H)')\n",
    "plt.title('P(H) Tends to Approach the True Value')"
   ]
  },
  {
   "cell_type": "markdown",
   "metadata": {},
   "source": [
    "As we can see from the results, P(H) approaches 0.50 as the number of coin tosses go up. It also tends to vary a lot more up until we get 1,000 tosses in. \n",
    "\n",
    "The true value of P(H) is the relative frequency of heads as the number of coin tosses increases without bound. In general, the probability of an event approaches its true value as the number of trials of a random experiment increases. \n",
    "\n",
    "## Theoretical Probability\n",
    "\n",
    "Sometimes, we can't always perform a random experiment many times. We can estimate probability an easier way by assuming that the outcomes of a random experiment have equal chances of occuring. This lets us use this formula: \n",
    "* P(E) = 1/total number of possible outcomes\n",
    "\n",
    "So, P(H) and P(T) become:\n",
    "* P(H) = 1/2 = 0.5\n",
    "* P(T) = 1/2 = 0.5\n",
    "\n",
    "And the probability of rolling a certain number of a six-sided die: \n",
    "* P(1) = 1/6 = 0.1666...\n",
    "* P(2) = 1/6 = 0.1666...\n",
    "\n",
    "Calculating the probability under the assumption that outcomes have equal chances is calculating the **theoretical probability**. It's not always appropriate to use this method, such as estimating your chances of winning the lottery or becomign infected with HIV. \n",
    "\n",
    "### Clarifying \"outcome\" and \"event\"\n",
    "\n",
    "An **outcome** is any result that a random experiment may terminate in. All possible outcomes of a six-sided die are 1, 2, 3, 4, 5, and 6. An **event** has more meaning and can include more than one outcome (or zero). \n",
    "* The event that we get an odd number when we roll a six-sided die (outcomes: 1, 3, 5)\n",
    "\n",
    "Because events can have multiple outcomes, we need to update our theoretical probability formula to account for that. P(odd) is not 1/6, so we need to change the formula to: \n",
    "* P(E) = number of successful outcomes / total number of possible outcomes\n",
    "\n",
    "This turns P(odd) = 1/6 to P(odd) = 3/6 since there are three outcomes that satisfy the event. \n",
    "\n",
    "This formula assumes that each outcome has an equal chance of occurring. If a six-sided die had the following sides: 1, 3, 5, 6, 6, 6 then it would not work with the formula. We need to account for the three times a 6 can occur, so P(6) = 3/6 and not P(6) = 1/6. "
   ]
  }
 ],
 "metadata": {
  "kernelspec": {
   "display_name": "Python 3",
   "language": "python",
   "name": "python3"
  },
  "language_info": {
   "codemirror_mode": {
    "name": "ipython",
    "version": 3
   },
   "file_extension": ".py",
   "mimetype": "text/x-python",
   "name": "python",
   "nbconvert_exporter": "python",
   "pygments_lexer": "ipython3",
   "version": "3.7.6"
  }
 },
 "nbformat": 4,
 "nbformat_minor": 4
}
