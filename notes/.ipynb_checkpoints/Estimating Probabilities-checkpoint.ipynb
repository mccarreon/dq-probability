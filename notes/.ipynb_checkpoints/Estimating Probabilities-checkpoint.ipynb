{
 "cells": [
  {
   "cell_type": "markdown",
   "metadata": {},
   "source": [
    "# Estimating Probabilities\n",
    "\n",
    "A **random experiment** is an experiment where we can't predict outcomes with certainty. For example, tossing a coin. \n",
    "\n",
    "Although we can't predict the outcome for sure, we can estimate probabilities associated with outcomes. A coin toss has two possible outcomes. \n",
    "\n",
    "To estimate the probability of a coin landing on heads we can: \n",
    "* Toss the coin many times (repeating the random experiment)\n",
    "* Count the number of times the coin landed on heads\n",
    "* Divide that number by thet otal number of times we tossed the coins\n",
    "\n",
    "Theoretically, this would give us the probability of a coin landing heads up. Let's say we got these results:\n",
    "* Heads: 56\n",
    "* Tails: 44\n",
    "\n",
    "We can write the probability of flipping heads as P(H) = 0.56. Calculating probability of an event by performing an experiment one or more times is called **experimental** or **empirical** probability. \n",
    "\n",
    "### Probability Examples:\n",
    "* Dice rolled: 200 times\n",
    "* Number of times 6 occurred: 28\n",
    "* Number of times an odd number occurred: 102"
   ]
  },
  {
   "cell_type": "code",
   "execution_count": 10,
   "metadata": {},
   "outputs": [
    {
     "name": "stdout",
     "output_type": "stream",
     "text": [
      "Probability of a six: 0.14         \n",
      "Probability of an odd number: 0.51\n"
     ]
    }
   ],
   "source": [
    "# Calculating probability of a six\n",
    "p_six = 28/200\n",
    "\n",
    "# Calculating probability of an odd number\n",
    "p_odd = 102/200\n",
    "print(f'Probability of a six: {p_six} \\\n",
    "        \\nProbability of an odd number: {p_odd}')"
   ]
  },
  {
   "cell_type": "markdown",
   "metadata": {},
   "source": [
    "Empirical probability of an event is just the **relative frequency** of that event with respect to the total number of times the experiment was performed. You can multiply the probability by 100 to get the percentage. "
   ]
  },
  {
   "cell_type": "code",
   "execution_count": 14,
   "metadata": {},
   "outputs": [
    {
     "name": "stdout",
     "output_type": "stream",
     "text": [
      "Percent chance of a six: 14.0         \n",
      "Percent chance of an odd number: 51.0\n"
     ]
    }
   ],
   "source": [
    "# Calculating percentage of the chance of a six occuring\n",
    "percent_six = round(p_six*100, 2)\n",
    "\n",
    "# Calculating percentage of the chance of an odd number\n",
    "percent_odd = round(p_odd*100, 2)\n",
    "print(f'Percent chance of a six: {percent_six} \\\n",
    "        \\nPercent chance of an odd number: {percent_odd}')"
   ]
  },
  {
   "cell_type": "code",
   "execution_count": null,
   "metadata": {},
   "outputs": [],
   "source": []
  }
 ],
 "metadata": {
  "kernelspec": {
   "display_name": "Python 3",
   "language": "python",
   "name": "python3"
  },
  "language_info": {
   "codemirror_mode": {
    "name": "ipython",
    "version": 3
   },
   "file_extension": ".py",
   "mimetype": "text/x-python",
   "name": "python",
   "nbconvert_exporter": "python",
   "pygments_lexer": "ipython3",
   "version": "3.7.6"
  }
 },
 "nbformat": 4,
 "nbformat_minor": 4
}
