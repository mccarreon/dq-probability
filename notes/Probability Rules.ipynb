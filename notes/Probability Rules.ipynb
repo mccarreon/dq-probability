{
 "cells": [
  {
   "cell_type": "markdown",
   "metadata": {},
   "source": [
    "# Probability Rules\n",
    "\n",
    "In the last lesson, we learned about:\n",
    "* Random experiments\n",
    "* Outcomes\n",
    "* Events\n",
    "\n",
    "A random experiment is any process for which we can't predict outcomes with certainty. An outcome is a possible result of a random experiment. Events can have multiple outcomes and are always assigned a probability. \n",
    "\n",
    "Outcomes of a random experiment are usually represented as a **set**. A dice roll would look like this: \n",
    "* Outcomes = {1,2,3,4,5,6}\n",
    "\n",
    "A set is a collection of *distinct* objects, so each outcome must occur only once. \n",
    "* {Heads, Heads} is not valid\n",
    "* {Heads, Tails} is valid\n",
    "\n",
    "The set of all possible outcomes is called a **sample space**. It is often denoted by the $\\Omega$ symbol. The sample space of a die roll: \n",
    "* $\\Omega$ = {1,2,3,4,5,6}\n",
    "\n",
    "If an event is impossible and has no probability of happening, we call it an **empty set** and denote it with $\\emptyset$. The probability of a certain event is 1 since it will always happen. Every other event ranges from 0 to 1. Example:\n",
    "* P(not heads or tails) = $\\emptyset$\n",
    "* P(heads) = 0.5\n",
    "* P(heads or tails) =  1\n",
    "\n"
   ]
  },
  {
   "cell_type": "code",
   "execution_count": null,
   "metadata": {},
   "outputs": [],
   "source": []
  }
 ],
 "metadata": {
  "kernelspec": {
   "display_name": "Python 3",
   "language": "python",
   "name": "python3"
  },
  "language_info": {
   "codemirror_mode": {
    "name": "ipython",
    "version": 3
   },
   "file_extension": ".py",
   "mimetype": "text/x-python",
   "name": "python",
   "nbconvert_exporter": "python",
   "pygments_lexer": "ipython3",
   "version": "3.7.6"
  }
 },
 "nbformat": 4,
 "nbformat_minor": 4
}
